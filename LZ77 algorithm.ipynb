{
 "cells": [
  {
   "cell_type": "code",
   "execution_count": null,
   "metadata": {},
   "outputs": [],
   "source": []
  },
  {
   "cell_type": "code",
   "execution_count": null,
   "metadata": {},
   "outputs": [],
   "source": []
  },
  {
   "cell_type": "code",
   "execution_count": null,
   "metadata": {},
   "outputs": [],
   "source": []
  },
  {
   "cell_type": "code",
   "execution_count": 22,
   "metadata": {},
   "outputs": [
    {
     "name": "stdout",
     "output_type": "stream",
     "text": [
      "1a1b1r1a1c1a1d1a1b1r1a\n"
     ]
    }
   ],
   "source": [
    "\n",
    "def encode(message): \n",
    "    encoded_message = \"\" \n",
    "    i = 0\n",
    "   \n",
    "    while (i <= len(message)-1): \n",
    "        count = 1\n",
    "        ch = message[i] \n",
    "        j = i \n",
    "        while (j < len(message)-1): \n",
    "            if (message[j] == message[j+1]): \n",
    "                count = count+1\n",
    "                j = j+1\n",
    "            else: \n",
    "                break\n",
    "        encoded_message=encoded_message+str(count)+ch \n",
    "        i = j+1\n",
    "    return encoded_message \n",
    "  \n",
    "#Provide different values for message and test your program \n",
    "encoded_message=encode(\"abracadabra\")      #ABBBBCCCCCCCCAB\n",
    "print(encoded_message) "
   ]
  }
 ],
 "metadata": {
  "kernelspec": {
   "display_name": "Python 3",
   "language": "python",
   "name": "python3"
  },
  "language_info": {
   "codemirror_mode": {
    "name": "ipython",
    "version": 3
   },
   "file_extension": ".py",
   "mimetype": "text/x-python",
   "name": "python",
   "nbconvert_exporter": "python",
   "pygments_lexer": "ipython3",
   "version": "3.7.3"
  }
 },
 "nbformat": 4,
 "nbformat_minor": 2
}
